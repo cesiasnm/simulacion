{
 "cells": [
  {
   "cell_type": "markdown",
   "id": "a30d47ef",
   "metadata": {},
   "source": [
    "# SIMULACIÓN II"
   ]
  },
  {
   "cell_type": "markdown",
   "id": "7f11c512",
   "metadata": {},
   "source": [
    "Cesia Sunem Barrera Bahena\n",
    "\n",
    "Práctica 1: Escribir un código en python que implemente las pruebas de uniformidad y las pruebas de independencia de números aleatorios vistas en clase, guardarlo en su cuenta de github."
   ]
  },
  {
   "cell_type": "markdown",
   "id": "d8c69ef6",
   "metadata": {},
   "source": [
    "# Prueba de Media"
   ]
  },
  {
   "cell_type": "code",
   "execution_count": 8,
   "id": "b8c4c080",
   "metadata": {},
   "outputs": [],
   "source": [
    "import numpy as np\n",
    "import random"
   ]
  },
  {
   "cell_type": "code",
   "execution_count": 143,
   "id": "e3d972a4",
   "metadata": {},
   "outputs": [
    {
     "name": "stdout",
     "output_type": "stream",
     "text": [
      "Ingrese el tamaño de la lista: 100\n"
     ]
    }
   ],
   "source": [
    "n = int(input(\"Ingrese el tamaño de la lista: \"))"
   ]
  },
  {
   "cell_type": "code",
   "execution_count": 96,
   "id": "37587218",
   "metadata": {},
   "outputs": [],
   "source": [
    "lista = [random.random() for _ in range(n)]"
   ]
  },
  {
   "cell_type": "code",
   "execution_count": 97,
   "id": "1fb98409",
   "metadata": {},
   "outputs": [
    {
     "name": "stdout",
     "output_type": "stream",
     "text": [
      "La media es: 0.49572948866795125\n"
     ]
    }
   ],
   "source": [
    "# Calcular la media\n",
    "media = sum(lista) / len(lista)\n",
    "print(\"La media es:\", media)"
   ]
  },
  {
   "cell_type": "code",
   "execution_count": 98,
   "id": "94b65014",
   "metadata": {},
   "outputs": [],
   "source": [
    "from scipy.stats import norm\n",
    "import math"
   ]
  },
  {
   "cell_type": "code",
   "execution_count": 99,
   "id": "965e0c54",
   "metadata": {},
   "outputs": [
    {
     "name": "stdout",
     "output_type": "stream",
     "text": [
      "Ingrese el nivel de confianza que desea para la prueba de Medias: 95\n",
      "El valor de z para un nivel de confianza del 95 % es: 1.96\n"
     ]
    }
   ],
   "source": [
    "nivel_confianza = int(input(\"Ingrese el nivel de confianza que desea para la prueba de Medias: \"))\n",
    "z = norm.ppf((1 + (nivel_confianza/100)) / 2)\n",
    "\n",
    "print(\"El valor de z para un nivel de confianza del\", nivel_confianza, \"% es:\", round(z,2))"
   ]
  },
  {
   "cell_type": "code",
   "execution_count": 100,
   "id": "deaec2f6",
   "metadata": {},
   "outputs": [
    {
     "name": "stdout",
     "output_type": "stream",
     "text": [
      "El limite superior es: 0.5565792867038086\n",
      "El limites inferior es: 0.4434207132961914\n"
     ]
    }
   ],
   "source": [
    "# Calculamos los límites\n",
    "limit_s = (1/2) + z *(1/math.sqrt(12*len(lista)))\n",
    "limit_i = (1/2) - z *(1/math.sqrt(12*len(lista)))\n",
    "print(\"El limite superior es:\", limit_s)\n",
    "print(\"El limites inferior es:\", limit_i)"
   ]
  },
  {
   "cell_type": "code",
   "execution_count": 101,
   "id": "c28b3f24",
   "metadata": {},
   "outputs": [
    {
     "name": "stdout",
     "output_type": "stream",
     "text": [
      "Se cumple que H_o = media = 1/2\n"
     ]
    }
   ],
   "source": [
    "if (limit_i<=limit_s):\n",
    "    print(\"Se cumple que H_o = media = 1/2\")\n",
    "else:\n",
    "    print(\"No se cumple\")"
   ]
  },
  {
   "cell_type": "markdown",
   "id": "5765df82",
   "metadata": {},
   "source": [
    "## Prueba de Varianza"
   ]
  },
  {
   "cell_type": "code",
   "execution_count": 102,
   "id": "5e77d63b",
   "metadata": {},
   "outputs": [],
   "source": [
    "import scipy.stats as stats\n",
    "import statistics"
   ]
  },
  {
   "cell_type": "code",
   "execution_count": 103,
   "id": "1cfc773b",
   "metadata": {},
   "outputs": [
    {
     "name": "stdout",
     "output_type": "stream",
     "text": [
      "La varianza es: 0.08400629226013888\n"
     ]
    }
   ],
   "source": [
    "# Calcular la suma de los cuadrados de la diferencia con la media\n",
    "suma_cuadrados = sum((x - media) ** 2 for x in lista)\n",
    "\n",
    "# Calcular la varianza\n",
    "varianza = suma_cuadrados / (len(lista) - 1)\n",
    "\n",
    "print(\"La varianza es:\", varianza)"
   ]
  },
  {
   "cell_type": "code",
   "execution_count": 104,
   "id": "71d73f2b",
   "metadata": {},
   "outputs": [],
   "source": [
    "# Calcular el valor crítico de chi-cuadrado\n",
    "S2 = varianza\n",
    "grados_libertad = len(lista) - 1\n",
    "\n",
    "chi_critico = stats.chi2.ppf((100 - nivel_confianza)/200, grados_libertad)"
   ]
  },
  {
   "cell_type": "code",
   "execution_count": 105,
   "id": "55c80453",
   "metadata": {},
   "outputs": [],
   "source": [
    "# Calcular los límites inferior y superior\n",
    "limite_i = chi_critico / (12*(len(lista)-1))\n",
    "limite_s = stats.chi2.ppf((nivel_confianza)/200, grados_libertad) / (12*(len(lista)-1))"
   ]
  },
  {
   "cell_type": "code",
   "execution_count": 106,
   "id": "388e8842",
   "metadata": {},
   "outputs": [
    {
     "name": "stdout",
     "output_type": "stream",
     "text": [
      "El limite superior es: 0.5565792867038086\n",
      "El limites inferior es: 0.4434207132961914\n",
      "\n",
      "El valor está fuera del rango, no se cumple para los números de la lista\n"
     ]
    }
   ],
   "source": [
    "print(\"El limite superior es:\", limit_s)\n",
    "print(\"El limites inferior es:\", limit_i)\n",
    "\n",
    "if limite_i <= varianza <= limite_s:\n",
    "    print(\"\\nEl valor está dentro del rango, se cumple para los números de la lista\")\n",
    "else:\n",
    "    print(\"\\nEl valor está fuera del rango, no se cumple para los números de la lista\")"
   ]
  },
  {
   "cell_type": "markdown",
   "id": "26ecb499",
   "metadata": {},
   "source": [
    "# Prueba de independencia"
   ]
  },
  {
   "cell_type": "markdown",
   "id": "5b90f04b",
   "metadata": {},
   "source": [
    "## Prueba de corridas"
   ]
  },
  {
   "cell_type": "markdown",
   "id": "5a3bcc28",
   "metadata": {},
   "source": [
    "Paso 1: Clasificar los números aleatorios\n",
    "\n",
    "Paso 2: Calcular las corridas observadas\n",
    "\n",
    "Paso 3: Calcular E(h) y V(h)\n",
    "\n",
    "Paso 4: Calcular el estadístico Z y compararlo con el valor crítico"
   ]
  },
  {
   "cell_type": "code",
   "execution_count": 54,
   "id": "de1477d3",
   "metadata": {},
   "outputs": [],
   "source": [
    "import numpy as np\n",
    "from scipy.stats import norm"
   ]
  },
  {
   "cell_type": "code",
   "execution_count": 69,
   "id": "b7d9ee3c",
   "metadata": {},
   "outputs": [],
   "source": [
    "def valores_esperados(lista):\n",
    "    n = len(lista)\n",
    "    u = ((2*n) - 1) / 3\n",
    "    v = ((16*n) - 29) / 90\n",
    "    return (u, v)"
   ]
  },
  {
   "cell_type": "code",
   "execution_count": 70,
   "id": "b1a0a472",
   "metadata": {},
   "outputs": [],
   "source": [
    "def corridas(numeros):\n",
    "    corridas = 1\n",
    "    for i in range(1, len(numeros)):\n",
    "        if numeros[i] != numeros[i-1]:\n",
    "            corridas += 1\n",
    "    return corridas"
   ]
  },
  {
   "cell_type": "code",
   "execution_count": 71,
   "id": "1c4e02b3",
   "metadata": {},
   "outputs": [],
   "source": [
    "def clasificacion_numeros(num):\n",
    "    numeros = []\n",
    "    for i in range(len(num)):\n",
    "        if i == 0:\n",
    "            numeros.append(0)\n",
    "        elif num[i] <= num[i-1]:\n",
    "            numeros.append(0)\n",
    "        else:\n",
    "            numeros.append(1)\n",
    "    return numeros"
   ]
  },
  {
   "cell_type": "code",
   "execution_count": 176,
   "id": "6f45eed6",
   "metadata": {},
   "outputs": [],
   "source": [
    "def prueba_corridas(num, alpha):\n",
    "    numeros = clasificacion_numeros(num)\n",
    "\n",
    "    del numeros[0]\n",
    "    print (numeros, \"\\n\")\n",
    "\n",
    "    h = corridas(numeros)\n",
    "    print (\"Número de corridas: \", h, \"\\n\")\n",
    "\n",
    "    u, v = valores_esperados(num)\n",
    "    z = (h - u) / (v ** 0.5)\n",
    "    print(\"E(h) =\", u)\n",
    "    print(\"V(h) =\", v )\n",
    "    print(\"Estadistico =\", z , \"\\n\")\n",
    "    \n",
    "    z_c = norm.ppf((1 + alpha )/ 2)\n",
    "\n",
    "    if abs(z)<z_c:\n",
    "        print (\"Por lo tanto, \" , abs(z) , \"<=\" , z_c)\n",
    "        print (\"Se acepta la hipótesis sobre la independencia de los números\")\n",
    "    else:\n",
    "        print (\"Por lo tanto, \" , abs(z) , \">=\" , z_c)\n",
    "        print (\"No se acepta la hipótesis sobre la independencia de los números\")"
   ]
  },
  {
   "cell_type": "code",
   "execution_count": 177,
   "id": "d55f48f5",
   "metadata": {},
   "outputs": [
    {
     "name": "stdout",
     "output_type": "stream",
     "text": [
      "Ingrese el tamaño de la lista: 35\n",
      "Ingrese el nivel de confianza: 95\n",
      "\n",
      "Lista de numeros aleatorios: \n",
      " [0.57244297 0.27686966 0.22949633 0.54653475 0.50306941 0.70039848\n",
      " 0.70215177 0.49344496 0.32845144 0.16335932 0.95108163 0.69290249\n",
      " 0.00369039 0.44952068 0.50062214 0.11617019 0.26878516 0.53265218\n",
      " 0.69924913 0.47255873 0.86373753 0.59914499 0.51989916 0.17422379\n",
      " 0.82090112 0.65797197 0.57947727 0.86878456 0.7408397  0.61454213\n",
      " 0.66263745 0.3515026  0.95202136 0.41228667 0.01770157] \n",
      "\n"
     ]
    }
   ],
   "source": [
    "n = int(input(\"Ingrese el tamaño de la lista: \"))\n",
    "nivel_confianza = int(input(\"Ingrese el nivel de confianza: \"))\n",
    "\n",
    "numeros_aleatorios = np.random.rand(n)\n",
    "print(\"\\nLista de numeros aleatorios: \\n\",numeros_aleatorios, \"\\n\")"
   ]
  },
  {
   "cell_type": "code",
   "execution_count": 178,
   "id": "f82a2ef4",
   "metadata": {
    "scrolled": true
   },
   "outputs": [
    {
     "name": "stdout",
     "output_type": "stream",
     "text": [
      "[0, 0, 1, 0, 1, 1, 0, 0, 0, 1, 0, 0, 1, 1, 0, 1, 1, 1, 0, 1, 0, 0, 0, 1, 0, 0, 1, 0, 0, 1, 0, 1, 0, 0] \n",
      "\n",
      "Número de corridas:  21 \n",
      "\n",
      "E(h) = 23.0\n",
      "V(h) = 5.9\n",
      "Estadistico = -0.8233869695926183 \n",
      "\n",
      "Por lo tanto,  0.8233869695926183 <= 1.959963984540054\n",
      "Se acepta la hipótesis sobre la independencia de los números\n"
     ]
    }
   ],
   "source": [
    "prueba_corridas(numeros_aleatorios, nivel_confianza/100)"
   ]
  },
  {
   "cell_type": "markdown",
   "id": "4b824dc0",
   "metadata": {},
   "source": [
    "## Prueba de corridas opción 2"
   ]
  },
  {
   "cell_type": "markdown",
   "id": "3c2067df",
   "metadata": {},
   "source": [
    "Seguir este vínculo para ver el ejmeplo en el que se baso: https://github.com/Medetl/Simulacion/blob/main/Unidad%20I/Pruebas%20de%20corridas.ipynb"
   ]
  },
  {
   "cell_type": "code",
   "execution_count": 130,
   "id": "92cfeef8",
   "metadata": {},
   "outputs": [],
   "source": [
    "import random \n",
    "import math \n",
    "from statistics import mean, median\n",
    "from matplotlib.pyplot import *"
   ]
  },
  {
   "cell_type": "code",
   "execution_count": 131,
   "id": "06682b67",
   "metadata": {},
   "outputs": [
    {
     "name": "stdout",
     "output_type": "stream",
     "text": [
      "Ingrese el tamaño de la lista: 35\n"
     ]
    }
   ],
   "source": [
    "n = int(input(\"Ingrese el tamaño de la lista: \"))"
   ]
  },
  {
   "cell_type": "code",
   "execution_count": 134,
   "id": "7f13e70d",
   "metadata": {},
   "outputs": [
    {
     "name": "stdout",
     "output_type": "stream",
     "text": [
      "Lista de número aleatorios:\n",
      " [0.8602357570394251, 0.6905779526323018, 0.6387985856674883, 0.39284136183255924, 0.14223769723333868, 0.43873863696761795, 0.14663535409144635, 0.6583649465154322, 0.26314373596098595, 0.5555954277896886, 0.3395779587267834, 0.5928772209217452, 0.7092844774407795, 0.24899294001965966, 0.8320029797556681, 0.5155149629268583, 0.14127771043809312, 0.5599569283304952, 0.13641354648485826, 0.08848437470840764, 0.3719528210076948, 0.08034343695928203, 0.4954585969312052, 0.7239990624794606, 0.7035715109950392, 0.09110169672340995, 0.6904357729730066, 0.2711593688226719, 0.033613062373986646, 0.14708508603815218, 0.2772325807312537, 0.4980285360603114, 0.49457352375283237, 0.12873804480240603, 0.4406247904049464]\n"
     ]
    }
   ],
   "source": [
    "l = [random.random4() for _ in range(n)]\n",
    "print(\"Lista de número aleatorios:\\n\", l)"
   ]
  },
  {
   "cell_type": "code",
   "execution_count": 122,
   "id": "488ae33b",
   "metadata": {},
   "outputs": [],
   "source": [
    "def prueba_corridas(l):\n",
    "    \n",
    "    l_median = mean(l)\n",
    "    \n",
    "    R, positives, negatives = 1, 0, 0\n",
    "    \n",
    "    for i in range(len(l)):    \n",
    "        \n",
    "        # Aumentamos R cuando 2 entradas están una arriba y otra abajo de la media/mediana:\n",
    "        if (l[i] >= l_median and l[i-1] < l_median) or (l[i] < l_median and l[i-1] >= l_median):\n",
    "            R += 1\n",
    "        # Contamos las que están arriba y las que están abajo\n",
    "        if(l[i]) >= l_median:\n",
    "            positives += 1\n",
    "        else:\n",
    "            negatives += 1   \n",
    "    \n",
    "     # calculamos los parámetros y el estadistico\n",
    "    R_exp = ((2*positives*negatives)/(positives+negatives))+1\n",
    "    stan_dev = math.sqrt((2*positives*negatives*(2*positives*negatives-positives-negatives))/(((positives+negatives)**2)*(positives+negatives-1))) \n",
    "  \n",
    "    z = (R - R_exp)/stan_dev \n",
    "    \n",
    "    return R, positives, negatives, R_exp, z, stan_dev"
   ]
  },
  {
   "cell_type": "code",
   "execution_count": 128,
   "id": "6a0dc9eb",
   "metadata": {},
   "outputs": [
    {
     "name": "stdout",
     "output_type": "stream",
     "text": [
      "Estadistico =  0.8169349168751423\n",
      "Corridas observadas =  23 \n",
      "Corridas esperadas =  25.84 \n",
      "Positivos =  27 \n",
      "Negativos =  23 \n",
      "Varianza = 12.085420408163268\n"
     ]
    }
   ],
   "source": [
    "R = prueba_corridas(l)[0]\n",
    "positives = prueba_corridas(l)[1]\n",
    "negatives = prueba_corridas(l)[2]\n",
    "R_exp = abs(prueba_corridas(l)[3])\n",
    "Z = abs(prueba_corridas(l)[4]) \n",
    "stan_dev = abs(prueba_corridas(l)[5])\n",
    "\n",
    "print('Estadistico = ', Z)\n",
    "print('Corridas observadas = ', R, '\\nCorridas esperadas = ', R_exp, '\\nPositivos = ', positives, '\\nNegativos = ', negatives, '\\nVarianza =', stan_dev**2)"
   ]
  },
  {
   "cell_type": "markdown",
   "id": "9ef54b5e",
   "metadata": {},
   "source": [
    "## Prueba de uniformidad"
   ]
  },
  {
   "cell_type": "markdown",
   "id": "0f4ba169",
   "metadata": {},
   "source": [
    "### Prueba de Kolmogorov - Smirnov"
   ]
  },
  {
   "cell_type": "code",
   "execution_count": 152,
   "id": "c864d415",
   "metadata": {},
   "outputs": [
    {
     "name": "stdout",
     "output_type": "stream",
     "text": [
      "Ingrese el tamaño de la lista: 50\n"
     ]
    }
   ],
   "source": [
    "n = int(input(\"Ingrese el tamaño de la lista: \"))"
   ]
  },
  {
   "cell_type": "code",
   "execution_count": 153,
   "id": "742d6501",
   "metadata": {},
   "outputs": [],
   "source": [
    "lista = [random.random() for _ in range(n)]"
   ]
  },
  {
   "cell_type": "code",
   "execution_count": 154,
   "id": "5d71c781",
   "metadata": {},
   "outputs": [
    {
     "name": "stdout",
     "output_type": "stream",
     "text": [
      "Lista ordenada:\n",
      " [0.99776467 0.99371452 0.9733011  0.96965102 0.96672986 0.94378916\n",
      " 0.93644915 0.93534279 0.92061012 0.84881477 0.82304406 0.79527305\n",
      " 0.78624514 0.77877429 0.75440329 0.73775664 0.71844767 0.6697167\n",
      " 0.6580282  0.65502924 0.63317199 0.61220048 0.60448781 0.59195802\n",
      " 0.59124644 0.5720921  0.55189258 0.54312258 0.52460246 0.5115545\n",
      " 0.50506042 0.44408114 0.35833662 0.353029   0.34666005 0.30774815\n",
      " 0.30288681 0.29925657 0.29359775 0.28556962 0.26038747 0.21587174\n",
      " 0.20496866 0.17742235 0.16333723 0.10540999 0.09454768 0.07321132\n",
      " 0.06387249 0.01571154] \n",
      "\n"
     ]
    }
   ],
   "source": [
    "# Ordenamos de mayor a menor los numeros de la lista\n",
    "lista_sorted = np.sort(lista)[::-1]\n",
    "print(\"Lista ordenada:\\n\", lista_sorted,\"\\n\")"
   ]
  },
  {
   "cell_type": "code",
   "execution_count": 155,
   "id": "88b22116",
   "metadata": {},
   "outputs": [
    {
     "name": "stdout",
     "output_type": "stream",
     "text": [
      "D_plus = 0.9842884553498789\n",
      "D_minus = 0.9977646671951781\n",
      "D = 0.9977646671951781\n"
     ]
    }
   ],
   "source": [
    "D_plus = np.max([(i+1)/n - lista_sorted[i] for i in range(n)])\n",
    "D_minus = np.max([lista_sorted[i] - i/n for i in range(n)])\n",
    "D = np.max([D_plus, D_minus])\n",
    "print(\"D_plus =\", D_plus)\n",
    "print(\"D_minus =\", D_minus)\n",
    "print(\"D =\", D)"
   ]
  },
  {
   "cell_type": "code",
   "execution_count": 167,
   "id": "beb1179b",
   "metadata": {},
   "outputs": [
    {
     "name": "stdout",
     "output_type": "stream",
     "text": [
      "Ingrese el nivel de confianza: 0.05\n",
      "D_alpha = 0.16959440647022855 \n",
      "\n",
      "El conjunto arreglo_ri no sigue una distribución uniforme con un grado de confianza de 0.95\n",
      "\n"
     ]
    }
   ],
   "source": [
    "from scipy.stats import ksone\n",
    "\n",
    "alpha = float(input(\"Ingrese el nivel de confianza: \"))\n",
    "D_alpha = ksone.ppf(1-alpha, n)\n",
    "print(\"D_alpha =\", D_alpha, \"\\n\")\n",
    "\n",
    "if D > D_alpha:\n",
    "    print(f\"El conjunto arreglo_ri no sigue una distribución uniforme con un grado de confianza de {1-alpha}\\n\")\n",
    "else:\n",
    "    print(f\"El conjunto arreglo_ri sigue una distribución uniforme con un grado de confianza de {1-alpha}\\n\")"
   ]
  }
 ],
 "metadata": {
  "kernelspec": {
   "display_name": "Python 3 (ipykernel)",
   "language": "python",
   "name": "python3"
  },
  "language_info": {
   "codemirror_mode": {
    "name": "ipython",
    "version": 3
   },
   "file_extension": ".py",
   "mimetype": "text/x-python",
   "name": "python",
   "nbconvert_exporter": "python",
   "pygments_lexer": "ipython3",
   "version": "3.9.13"
  }
 },
 "nbformat": 4,
 "nbformat_minor": 5
}
