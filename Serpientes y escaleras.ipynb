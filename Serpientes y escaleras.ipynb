{
 "cells": [
  {
   "cell_type": "code",
   "execution_count": 17,
   "id": "f3452390",
   "metadata": {},
   "outputs": [],
   "source": [
    "import numpy as np\n",
    "import random\n",
    "import matplotlib.pyplot as plt"
   ]
  },
  {
   "cell_type": "code",
   "execution_count": 99,
   "id": "6056c399",
   "metadata": {},
   "outputs": [],
   "source": [
    "def serpientes_y_escaleras():\n",
    "    # Definir posición inicial del jugador\n",
    "    posicion = 1\n",
    "    print(\"Inicias en la casilla 1\")\n",
    "    lanzamientos_partida = 0\n",
    "    \n",
    "    # Jugar hasta llegar a la casilla 19\n",
    "    while posicion < 19:\n",
    "        # Lanzar el dado\n",
    "        dado = random.randint(1, 6)\n",
    "        print(\"Avanzas \",dado)\n",
    "        lanzamientos_partida+=1\n",
    "        \n",
    "        # Mover al jugador a la nueva posición\n",
    "        posicion += dado\n",
    "        \n",
    "        # Comprobar si el jugador ha caído en una serpiente o escalera\n",
    "        if posicion == 3:\n",
    "            posicion = 11\n",
    "            print(\"¡Escalera en la casilla 3!\")\n",
    "        elif posicion == 15:\n",
    "            posicion = 19\n",
    "            print(\"¡Escalera en la casilla 15!\")\n",
    "            print(\"¡Has ganado el juego, llegaste a la casilla 19!\\n\")\n",
    "            break\n",
    "        elif posicion == 13:\n",
    "            posicion = 4\n",
    "            print(\"¡Serpiente en la casilla 13!\")\n",
    "        elif posicion == 17:\n",
    "            posicion = 10\n",
    "            print(\"¡Serpiente en la casilla 17!\")\n",
    "        elif posicion >= 19:\n",
    "            posicion = 19\n",
    "            print(\"¡Has ganado el juego, llegaste a la casilla 19!\\n\")\n",
    "            break\n",
    "        \n",
    "        # Imprimir la posición actual del jugador\n",
    "        print(\"Estás en la casilla\", posicion)\n",
    "    return lanzamientos_partida"
   ]
  },
  {
   "cell_type": "code",
   "execution_count": 110,
   "id": "e6f15586",
   "metadata": {},
   "outputs": [
    {
     "name": "stdout",
     "output_type": "stream",
     "text": [
      "Inicias en la casilla 1\n",
      "Avanzas  4\n",
      "Estás en la casilla 5\n",
      "Avanzas  1\n",
      "Estás en la casilla 6\n",
      "Avanzas  3\n",
      "Estás en la casilla 9\n",
      "Avanzas  2\n",
      "Estás en la casilla 11\n",
      "Avanzas  6\n",
      "¡Serpiente en la casilla 17!\n",
      "Estás en la casilla 10\n",
      "Avanzas  6\n",
      "Estás en la casilla 16\n",
      "Avanzas  1\n",
      "¡Serpiente en la casilla 17!\n",
      "Estás en la casilla 10\n",
      "Avanzas  2\n",
      "Estás en la casilla 12\n",
      "Avanzas  4\n",
      "Estás en la casilla 16\n",
      "Avanzas  2\n",
      "Estás en la casilla 18\n",
      "Avanzas  6\n",
      "¡Has ganado el juego, llegaste a la casilla 19!\n",
      "\n"
     ]
    },
    {
     "data": {
      "text/plain": [
       "11"
      ]
     },
     "execution_count": 110,
     "metadata": {},
     "output_type": "execute_result"
    }
   ],
   "source": [
    "serpientes_y_escaleras()"
   ]
  },
  {
   "cell_type": "code",
   "execution_count": 116,
   "id": "7b131127",
   "metadata": {},
   "outputs": [],
   "source": [
    "def juego():\n",
    "    # Definir posición inicial del jugador\n",
    "    posicion = 1\n",
    "    lanzamientos_partida = 0\n",
    "    \n",
    "    # Jugar hasta llegar a la casilla 19\n",
    "    while posicion < 19:\n",
    "        # Lanzar el dado\n",
    "        dado = random.randint(1, 6)\n",
    "        lanzamientos_partida+=1\n",
    "        \n",
    "        # Mover al jugador a la nueva posición\n",
    "        posicion += dado\n",
    "        \n",
    "        # Comprobar si el jugador ha caído en una serpiente o escalera\n",
    "        if posicion == 3:\n",
    "            posicion = 11\n",
    "        elif posicion == 15:\n",
    "            break\n",
    "        elif posicion == 13:\n",
    "            posicion = 4\n",
    "        elif posicion == 17:\n",
    "            posicion = 10\n",
    "        elif posicion >= 19:\n",
    "            posicion = 19\n",
    "            break\n",
    "        \n",
    "    return lanzamientos_partida"
   ]
  },
  {
   "cell_type": "code",
   "execution_count": 117,
   "id": "ad53d7e5",
   "metadata": {},
   "outputs": [],
   "source": [
    "def promedio_lanzamientos(lanzamientos):\n",
    "    i=0\n",
    "    lista_lanzamientos = []\n",
    "    while i < lanzamientos:\n",
    "        i += 1\n",
    "        resultado = juego()\n",
    "        lista_lanzamientos.append(resultado)\n",
    "    return lista_lanzamientos"
   ]
  },
  {
   "cell_type": "code",
   "execution_count": 123,
   "id": "d3df5c25",
   "metadata": {},
   "outputs": [
    {
     "name": "stdout",
     "output_type": "stream",
     "text": [
      "Ingrese las veces que quiera jugar: 100\n",
      "Promedio de lanzamientos: 6.41\n"
     ]
    }
   ],
   "source": [
    "n = int(input(\"Ingrese las veces que quiera jugar: \"))\n",
    "promedio = promedio_lanzamientos(n)\n",
    "prom = np.mean(promedio)\n",
    "print (\"Promedio de lanzamientos:\" ,prom)"
   ]
  },
  {
   "cell_type": "code",
   "execution_count": 124,
   "id": "309bb1c4",
   "metadata": {},
   "outputs": [],
   "source": [
    "def lanzamientos_totales(lanzamientos):\n",
    "    i=0\n",
    "    lista_lanzamientos = []\n",
    "    while i < lanzamientos:\n",
    "        i += 1\n",
    "        resultado = juego()/i\n",
    "        lista_lanzamientos.append(resultado)\n",
    "    return lista_lanzamientos"
   ]
  },
  {
   "cell_type": "code",
   "execution_count": 125,
   "id": "539c742f",
   "metadata": {},
   "outputs": [
    {
     "name": "stdout",
     "output_type": "stream",
     "text": [
      "Ingrese las veces que quiera jugar: 100\n"
     ]
    },
    {
     "data": {
      "image/png": "[encoded data removed]",
      "text/plain": [
       "<Figure size 640x480 with 1 Axes>"
      ]
     },
     "metadata": {},
     "output_type": "display_data"
    }
   ],
   "source": [
    "n = int(input(\"Ingrese las veces que quiera jugar: \"))\n",
    "exp = lanzamientos_totales(n)\n",
    "plt.plot(exp)\n",
    "plt.xlabel('Lanzamientos')\n",
    "plt.ylabel('Probabilidad')\n",
    "plt.title('Lanzamientos promedios para ganar el juego')\n",
    "plt.show()"
   ]
  }
 ],
 "metadata": {
  "kernelspec": {
   "display_name": "Python 3 (ipykernel)",
   "language": "python",
   "name": "python3"
  },
  "language_info": {
   "codemirror_mode": {
    "name": "ipython",
    "version": 3
   },
   "file_extension": ".py",
   "mimetype": "text/x-python",
   "name": "python",
   "nbconvert_exporter": "python",
   "pygments_lexer": "ipython3",
   "version": "3.9.13"
  }
 },
 "nbformat": 4,
 "nbformat_minor": 5
}
