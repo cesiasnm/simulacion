{
 "cells": [
  {
   "cell_type": "markdown",
   "id": "a5cc0a87",
   "metadata": {},
   "source": [
    "# Metodología de la Simulación"
   ]
  },
  {
   "cell_type": "markdown",
   "id": "0e218d98",
   "metadata": {},
   "source": [
    "### 1. Identifique las variables \n",
    "\n",
    "Aquellas cuyo comportamiento define el comportamiento o la evoución global del sistema real."
   ]
  },
  {
   "cell_type": "markdown",
   "id": "3ebcd0f2",
   "metadata": {},
   "source": [
    "### 2. Determine la distribución de probabilidad\n",
    "\n",
    "Elija el tipo de distribución de probabilidad que mejor defina el comportamiento aleatorio de cada una de las variables del sistema identificadas en el paso anterior."
   ]
  },
  {
   "cell_type": "markdown",
   "id": "803801d5",
   "metadata": {},
   "source": [
    "### 3. Modele las variables aleatorias \n",
    "\n",
    "Cosntruya un modelo fiel de la aleatoriedad de las variables del sistema. Simular el comportamiento del sistema implica generar muestras aleatorias de cada variable que sigan fielmente la distribución de probabilidad correspondiente."
   ]
  },
  {
   "cell_type": "markdown",
   "id": "33709223",
   "metadata": {},
   "source": [
    "### 4. Defina el modelo del sistema y los objetivos de la simulación \n",
    "\n",
    "Fije los objetivos y diseñe un modelo del sistema real que abstraiga sus propiedades más relevantes. Todo error en el modelo (o su implementación computacional) puede dar lugar a conclusiones equivocadas. \n",
    "\n",
    "Antes de experimentar con el modelo, asegurarse de que refleja fielmente el sistema real **validando** el mismo a partir de datos reales, para ello compare los resultados obtenidos de la simulación con los producidos por el sistema."
   ]
  },
  {
   "cell_type": "markdown",
   "id": "7f853065",
   "metadata": {},
   "source": [
    "### 5. Diseñe el experimento\n",
    "\n",
    "Diseñe un experimento así como las ejecuciones concretas del mismo, los escenarios que desea estudiar para alcanzar los objetivos fijados. El experimento consiste en generar valores de las variables cuyo comportamiento define el comportamiento del sistema y analizar este ante dichos valores."
   ]
  },
  {
   "cell_type": "markdown",
   "id": "15ae61c8",
   "metadata": {},
   "source": [
    "### 6. Repita el experimento $n$ veces \n",
    "\n",
    "Así dispondrá de $n$ observaciones sobre el comportamiento del sistema, lo que permitirá entender su funcionamiento así como evaluar el desempeño del mismo frente a los diversos escenarios establecidos.\n",
    "\n",
    "El **método Monte Carlo** se basa en la **Ley Fuerte de los Grandes Números** y el **Teorema del Límite Central**."
   ]
  },
  {
   "cell_type": "markdown",
   "id": "51ce3fa1",
   "metadata": {},
   "source": [
    "## Ejemplo\n",
    "\n",
    "Calcule la probabilidad de que aparezcan dos caras lanzando tres veces una moneda al aire.\n",
    "\n",
    "1. Analíticamente.\n",
    "2. Mediante simulación."
   ]
  },
  {
   "cell_type": "markdown",
   "id": "6f1b4105",
   "metadata": {},
   "source": [
    "Analiticamente:"
   ]
  },
  {
   "cell_type": "code",
   "execution_count": null,
   "id": "bb5e678d",
   "metadata": {},
   "outputs": [],
   "source": []
  },
  {
   "cell_type": "markdown",
   "id": "564ca694",
   "metadata": {},
   "source": [
    "Por simulación: Construimos el modelo en varios pasos."
   ]
  },
  {
   "cell_type": "markdown",
   "id": "fbbc8571",
   "metadata": {},
   "source": [
    "**PASO 1**. Defina las variables que intervienen en el modelo."
   ]
  },
  {
   "cell_type": "code",
   "execution_count": 1,
   "id": "37c5f31c",
   "metadata": {},
   "outputs": [],
   "source": [
    "sol = 0\n",
    "aguila = 1"
   ]
  },
  {
   "cell_type": "markdown",
   "id": "4d3899f3",
   "metadata": {},
   "source": [
    "**PASO 2**. Formule la distribución de probabilidad de cada variable."
   ]
  },
  {
   "cell_type": "markdown",
   "id": "fefa1334",
   "metadata": {},
   "source": [
    "\n",
    "|      |**Sol**|**Aguila**|\n",
    "|------|-------|----------|\n",
    "|f(x)|     1/2    |   1/2       |"
   ]
  },
  {
   "cell_type": "markdown",
   "id": "fd02116a",
   "metadata": {},
   "source": [
    "**PASO 3**. Enumere la distribución acumulada de probabilidad de cada variable."
   ]
  },
  {
   "cell_type": "markdown",
   "id": "59e252c6",
   "metadata": {},
   "source": [
    "|      |**Sol**|**Aguila**|\n",
    "|------|-------|----------|\n",
    "|f(x)  |   1/2    |    1/2      |\n",
    "|F(x)  |   1/2    |      1    |"
   ]
  },
  {
   "cell_type": "markdown",
   "id": "4852dcac",
   "metadata": {},
   "source": [
    "**PASO 4**. Establezca el intervalo de números aleatorios correspondiente a cada valor de cada una de las variables."
   ]
  },
  {
   "cell_type": "markdown",
   "id": "905db069",
   "metadata": {},
   "source": [
    "|           |**Sol**|**Aguila**|\n",
    "|-----------|-------|----------|\n",
    "|f(x)       |   1/2    |    1/2      |\n",
    "|F(x)       |   1/2    |    1      |\n",
    "|Intervalos |  (0, 1/2)     |   (1/2, 1)       |"
   ]
  },
  {
   "cell_type": "markdown",
   "id": "edb6b074",
   "metadata": {},
   "source": [
    "**PASO 5**. Genere números aleatorios."
   ]
  },
  {
   "cell_type": "code",
   "execution_count": 11,
   "id": "7d56c432",
   "metadata": {},
   "outputs": [
    {
     "name": "stdout",
     "output_type": "stream",
     "text": [
      "Ingrese el tamaño de la lista: 35\n"
     ]
    },
    {
     "data": {
      "text/plain": [
       "[0.7400259549420702,\n",
       " 0.21111348163536714,\n",
       " 0.6894821417603826,\n",
       " 0.8261589283227102,\n",
       " 0.3324277581282681,\n",
       " 0.084868911202713,\n",
       " 0.062323442017801156,\n",
       " 0.9674922333510763,\n",
       " 0.019504362616708848,\n",
       " 0.29707964503313955,\n",
       " 0.747094304093311,\n",
       " 0.7043796947050144,\n",
       " 0.09008138163432766,\n",
       " 0.6618960083910357,\n",
       " 0.627196806286861,\n",
       " 0.9865706516516187,\n",
       " 0.07841960117272673,\n",
       " 0.19355433707901204,\n",
       " 0.45219460403799916,\n",
       " 0.0951104542264557,\n",
       " 0.9275276030316635,\n",
       " 0.8714422735245432,\n",
       " 0.6754727220551704,\n",
       " 0.08766392562707315,\n",
       " 0.37490604582180453,\n",
       " 0.7833735855963803,\n",
       " 0.6793471317730673,\n",
       " 0.12554400515178277,\n",
       " 0.7993363169122636,\n",
       " 0.7814943375924703,\n",
       " 0.33569603132891745,\n",
       " 0.2346971140174402,\n",
       " 0.09680534086686232,\n",
       " 0.6554767703964058,\n",
       " 0.8001059554021328]"
      ]
     },
     "execution_count": 11,
     "metadata": {},
     "output_type": "execute_result"
    }
   ],
   "source": [
    "import random\n",
    "n = int(input(\"Ingrese el tamaño de la lista: \"))\n",
    "lista = [random.random() for _ in range(n)]\n",
    "lista"
   ]
  },
  {
   "cell_type": "markdown",
   "id": "f38f3396",
   "metadata": {},
   "source": [
    "**PASO 6**. Simule un lanzamiento."
   ]
  },
  {
   "cell_type": "markdown",
   "id": "a68ba17e",
   "metadata": {},
   "source": [
    "Si Número de caras = 2       \n",
    "\n",
    "¿Aparecen dos caras? = **1**\n",
    "\n",
    "Si Número de caras ≠ 2       \n",
    "\n",
    "¿Aparecen dos caras? = **0**"
   ]
  },
  {
   "cell_type": "markdown",
   "id": "d270399e",
   "metadata": {},
   "source": [
    "**PASO 7**. Obtenga la gráfica de estabilización que indica que el tamaño de muestra utilizado es suficiente para \n",
    "garantizar la convergencia del resultado."
   ]
  },
  {
   "cell_type": "code",
   "execution_count": 13,
   "id": "2fd22e33",
   "metadata": {},
   "outputs": [],
   "source": [
    "import numpy as np\n",
    "import random\n",
    "import matplotlib.pyplot as plt"
   ]
  },
  {
   "cell_type": "code",
   "execution_count": 14,
   "id": "32719c0f",
   "metadata": {},
   "outputs": [],
   "source": [
    "def volados(n):\n",
    "    caras = 0\n",
    "    for i in range(n):\n",
    "        u = random.uniform(0,1)\n",
    "        if u <= 0.5:\n",
    "            caras += 1\n",
    "    return caras"
   ]
  },
  {
   "cell_type": "code",
   "execution_count": 15,
   "id": "423546a4",
   "metadata": {},
   "outputs": [],
   "source": [
    "def caras(m):\n",
    "    favorable = 0\n",
    "    if volados(3) == m:\n",
    "        favorable +=1\n",
    "    return favorable"
   ]
  },
  {
   "cell_type": "code",
   "execution_count": 16,
   "id": "0d2847cf",
   "metadata": {},
   "outputs": [],
   "source": [
    "def experimento(iteraciones):\n",
    "    i = 0\n",
    "    favorables=0\n",
    "    Lista = []\n",
    "    while i <= iteraciones:\n",
    "        favorables = favorables + caras(2)\n",
    "        i += 1\n",
    "        probabilidad = favorables/i\n",
    "        Lista.append(probabilidad)\n",
    "    return Lista"
   ]
  },
  {
   "cell_type": "code",
   "execution_count": 37,
   "id": "548249d8",
   "metadata": {},
   "outputs": [
    {
     "name": "stdout",
     "output_type": "stream",
     "text": [
      "Ingrese el número de iteraciones: 5000\n"
     ]
    }
   ],
   "source": [
    "iterar = int(input(\"Ingrese el número de iteraciones: \"))\n",
    "exp = experimento(iterar)"
   ]
  },
  {
   "cell_type": "code",
   "execution_count": 38,
   "id": "566325f4",
   "metadata": {},
   "outputs": [
    {
     "data": {
      "text/plain": [
       "0.3834024206871657"
      ]
     },
     "execution_count": 38,
     "metadata": {},
     "output_type": "execute_result"
    }
   ],
   "source": [
    "np.mean(exp)"
   ]
  },
  {
   "cell_type": "code",
   "execution_count": 39,
   "id": "ef68f87c",
   "metadata": {},
   "outputs": [
    {
     "data": {
      "image/png": "[encoded data removed]",
      "text/plain": [
       "<Figure size 640x480 with 1 Axes>"
      ]
     },
     "metadata": {},
     "output_type": "display_data"
    }
   ],
   "source": [
    "plt.plot(exp)\n",
    "plt.xlabel('iteraciones')\n",
    "plt.ylabel('p')\n",
    "plt.title('Probabilidad de obtener 2 caras')\n",
    "plt.show()"
   ]
  },
  {
   "cell_type": "markdown",
   "id": "f596fcd1",
   "metadata": {},
   "source": [
    "**PASO 8**. Replique el modelo."
   ]
  },
  {
   "cell_type": "code",
   "execution_count": 20,
   "id": "b237f0d0",
   "metadata": {},
   "outputs": [],
   "source": [
    "def simulacion_caras(repeticiones):\n",
    "    List = []\n",
    "    for i in range(repeticiones):\n",
    "        List.append(np.mean(experimento(1000)))\n",
    "    return List"
   ]
  },
  {
   "cell_type": "code",
   "execution_count": 21,
   "id": "d060db89",
   "metadata": {},
   "outputs": [],
   "source": [
    "simulacion = simulacion_caras(50)"
   ]
  },
  {
   "cell_type": "code",
   "execution_count": 22,
   "id": "cc0b958d",
   "metadata": {},
   "outputs": [
    {
     "data": {
      "image/png": "[encoded data removed]",
      "text/plain": [
       "<Figure size 640x480 with 1 Axes>"
      ]
     },
     "metadata": {},
     "output_type": "display_data"
    }
   ],
   "source": [
    "plt.hist(simulacion)\n",
    "plt.xlabel('iteraciones')\n",
    "plt.ylabel('p')\n",
    "plt.title('Probabilidad')\n",
    "plt.show()"
   ]
  },
  {
   "cell_type": "markdown",
   "id": "6e9bd469",
   "metadata": {},
   "source": [
    "**PASO 9**. Calcule la probabilidad de que aparezcan dos caras lanzando tres veces una moneda al aire y su desviación \n",
    "estándar."
   ]
  },
  {
   "cell_type": "code",
   "execution_count": 23,
   "id": "dbeb0461",
   "metadata": {},
   "outputs": [
    {
     "data": {
      "text/plain": [
       "(0.36940311055856506, 0.00038975041464855433, 0.01974209752403615)"
      ]
     },
     "execution_count": 23,
     "metadata": {},
     "output_type": "execute_result"
    }
   ],
   "source": [
    "np.mean(simulacion), np.var(simulacion), np.std(simulacion)"
   ]
  },
  {
   "cell_type": "markdown",
   "id": "db8776d2",
   "metadata": {},
   "source": [
    "**PASO 10**. Halle el intervalo de confianza de la probabilidad de queaparezcan dos caras lanzando tres veces una moneda \n",
    "al aire con un nivel de confianza del $95 \\%$."
   ]
  },
  {
   "cell_type": "code",
   "execution_count": 31,
   "id": "e5132329",
   "metadata": {},
   "outputs": [
    {
     "name": "stdout",
     "output_type": "stream",
     "text": [
      "Ingrese el nivel de confianza: 95\n",
      "Intervalo de confianza del  95 %: (0.36387542482622387, 0.37493079629090625)\n"
     ]
    }
   ],
   "source": [
    "from scipy.stats import norm\n",
    "\n",
    "media = np.mean(simulacion)\n",
    "desviacion_estandar = np.std(simulacion, ddof=1)\n",
    "n_confianza = int(input(\"Ingrese el nivel de confianza: \"))\n",
    "confianza = n_confianza/100\n",
    "intervalo_confianza = norm.interval(confianza, loc=media, scale=desviacion_estandar / np.sqrt(len(simulacion)))\n",
    "\n",
    "\n",
    "print(\"Intervalo de confianza del \", n_confianza,\"%:\", intervalo_confianza)"
   ]
  }
 ],
 "metadata": {
  "kernelspec": {
   "display_name": "Python 3 (ipykernel)",
   "language": "python",
   "name": "python3"
  },
  "language_info": {
   "codemirror_mode": {
    "name": "ipython",
    "version": 3
   },
   "file_extension": ".py",
   "mimetype": "text/x-python",
   "name": "python",
   "nbconvert_exporter": "python",
   "pygments_lexer": "ipython3",
   "version": "3.9.13"
  }
 },
 "nbformat": 4,
 "nbformat_minor": 5
}
