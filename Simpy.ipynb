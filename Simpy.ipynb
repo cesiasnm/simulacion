{
 "cells": [
  {
   "cell_type": "code",
   "execution_count": 15,
   "id": "1498d5de",
   "metadata": {},
   "outputs": [
    {
     "name": "stdout",
     "output_type": "stream",
     "text": [
      "Requirement already satisfied: simpy in c:\\users\\cesi_\\anaconda3\\lib\\site-packages (4.0.1)\n"
     ]
    }
   ],
   "source": [
    "!pip install simpy\n",
    "import simpy\n",
    "import numpy as np\n",
    "import matplotlib.pyplot as plt"
   ]
  },
  {
   "cell_type": "code",
   "execution_count": 16,
   "id": "49d6c058",
   "metadata": {},
   "outputs": [],
   "source": [
    "def warehouse_run(env, order_cutoff, order_target):\n",
    "  global inventory, balance, num_ordered  # Se declaran variables globales\n",
    "\n",
    "  inventory = order_target  # Se inicializa el inventario con el valor objetivo\n",
    "  balance = 0.0  # Se inicializa el balance en 0\n",
    "  num_ordered = 0  # Se inicializa el número de órdenes en 0\n",
    "\n",
    "  while True:  # Bucle infinito\n",
    "    interarrival = generate_interarrival()  # Genera un tiempo de interllegada\n",
    "    yield env.timeout(interarrival)  # Espera el tiempo de interllegada\n",
    "    balance -= inventory*2*interarrival  # Actualiza el balance restando el costo de inventario\n",
    "    demand = generate_demand()  # Genera la demanda\n",
    "    if demand < inventory:  # Si la demanda es menor que el inventario\n",
    "      balance += 100*demand  # Aumenta el balance por las ventas\n",
    "      inventory -= demand  # Actualiza el inventario restando la demanda\n",
    "      print('{:.2f} sold {}'.format(env.now, demand))  # Imprime la venta realizada\n",
    "    else:  # Si la demanda es mayor o igual que el inventario\n",
    "      balance += 100*inventory  # Aumenta el balance por las ventas del inventario actual\n",
    "      inventory = 0  # El inventario se queda sin stock\n",
    "      print('{:.2f} sold {} (out of stock)'.format(env.now, inventory))  # Imprime que no hay stock\n",
    "    if inventory < order_cutoff and num_ordered == 0:  # Si el inventario es menor que el punto de reorden y no hay órdenes pendientes\n",
    "      env.process(handle_order(env, order_target))  # Inicia el proceso para manejar una nueva orden"
   ]
  },
  {
   "cell_type": "code",
   "execution_count": 17,
   "id": "759722e4",
   "metadata": {},
   "outputs": [],
   "source": [
    "def handle_order(env, order_target):\n",
    "  global inventory, balance, num_ordered  # Se declaran variables globales\n",
    "\n",
    "  num_ordered = order_target - inventory  # Calcula la cantidad de productos a ordenar\n",
    "  print('{:.2f} placed order for {}'.format(env.now, num_ordered))  # Imprime la orden realizada\n",
    "  balance -= 50*num_ordered  # Resta el costo de ordenar a la balance\n",
    "  yield env.timeout(2.0)  # Espera un tiempo de procesamiento de la orden\n",
    "  inventory += num_ordered  # Añade los productos ordenados al inventario\n",
    "  num_ordered = 0  # Reinicia el número de órdenes a 0\n",
    "  print('{:.2f} received order, {} in inventory'.format(env.now, inventory))  # Imprime la recepción de la orden"
   ]
  },
  {
   "cell_type": "code",
   "execution_count": 18,
   "id": "ef2924d8",
   "metadata": {},
   "outputs": [],
   "source": [
    "def generate_interarrival():\n",
    "  return np.random.exponential(1./5)  # Genera un tiempo de interllegada exponencial"
   ]
  },
  {
   "cell_type": "code",
   "execution_count": 19,
   "id": "9113b1f7",
   "metadata": {},
   "outputs": [],
   "source": [
    "def generate_demand():\n",
    "  return np.random.randint(1, 5)  # Genera una demanda aleatoria entre 1 y 4\n",
    "\n",
    "obs_time = []  # Lista para almacenar los tiempos de observación\n",
    "inventory_level = []  # Lista para almacenar el nivel de inventario"
   ]
  },
  {
   "cell_type": "code",
   "execution_count": 22,
   "id": "77a0e2a4",
   "metadata": {},
   "outputs": [],
   "source": [
    "def observe(env):\n",
    "  global inventory  # Se declara una variable global\n",
    "\n",
    "  while True:  # Bucle infinito\n",
    "    obs_time.append(env.now)  # Agrega el tiempo actual a la lista de tiempos de observación\n",
    "    inventory_level.append(inventory)  # Agrega el nivel de inventario actual a la lista\n",
    "    yield env.timeout(0.1)"
   ]
  },
  {
   "cell_type": "code",
   "execution_count": 23,
   "id": "3575aa58",
   "metadata": {},
   "outputs": [
    {
     "name": "stdout",
     "output_type": "stream",
     "text": [
      "0.16 sold 2\n",
      "0.53 sold 4\n",
      "0.69 sold 2\n",
      "0.88 sold 3\n",
      "1.00 sold 3\n",
      "1.01 sold 1\n",
      "1.11 sold 3\n",
      "1.44 sold 3\n",
      "1.61 sold 2\n",
      "1.97 sold 1\n",
      "1.99 sold 4\n",
      "1.99 placed order for 28\n",
      "2.08 sold 2\n",
      "2.38 sold 4\n",
      "2.79 sold 4\n",
      "3.11 sold 4\n",
      "3.26 sold 4\n",
      "3.28 sold 1\n",
      "3.46 sold 2\n",
      "3.99 received order, 29 in inventory\n",
      "4.04 sold 4\n",
      "4.06 sold 4\n",
      "4.06 placed order for 29\n",
      "4.12 sold 4\n",
      "4.39 sold 1\n",
      "4.56 sold 1\n",
      "4.63 sold 2\n",
      "4.82 sold 1\n",
      "4.92 sold 1\n"
     ]
    },
    {
     "data": {
      "text/plain": [
       "Text(0, 0.5, 'Inventory level')"
      ]
     },
     "execution_count": 23,
     "metadata": {},
     "output_type": "execute_result"
    },
    {
     "data": {
      "image/png": "[encoded data removed]",
      "text/plain": [
       "<Figure size 640x480 with 1 Axes>"
      ]
     },
     "metadata": {},
     "output_type": "display_data"
    }
   ],
   "source": [
    "np.random.seed(0)\n",
    "\n",
    "env = simpy.Environment()\n",
    "env.process(warehouse_run(env, 25, 50))\n",
    "env.process(observe(env))\n",
    "\n",
    "env.run(until = 5.0)\n",
    "\n",
    "plt.figure()\n",
    "plt.step(obs_time, inventory_level, where = 'post')\n",
    "plt.xlabel('Simulation time(days)')\n",
    "plt.ylabel('Inventory level')"
   ]
  }
 ],
 "metadata": {
  "kernelspec": {
   "display_name": "Python 3 (ipykernel)",
   "language": "python",
   "name": "python3"
  },
  "language_info": {
   "codemirror_mode": {
    "name": "ipython",
    "version": 3
   },
   "file_extension": ".py",
   "mimetype": "text/x-python",
   "name": "python",
   "nbconvert_exporter": "python",
   "pygments_lexer": "ipython3",
   "version": "3.9.13"
  }
 },
 "nbformat": 4,
 "nbformat_minor": 5
}
