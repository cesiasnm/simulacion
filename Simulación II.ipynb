{
 "cells": [
  {
   "cell_type": "code",
   "execution_count": 7,
   "id": "b8c4c080",
   "metadata": {},
   "outputs": [],
   "source": [
    "r = [0.0449, 0.1733, 0.5746, 0.049, 0.8406, 0.8349, 0.92, 0.2564,\n",
    "0.6015, 0.6694, 0.3972, 0.7025, 0.1055, 0.1247, 0.1977, 0.0125,\n",
    "0.63, 0.2531, 0.8297, 0.6483, 0.6972, 0.9582, 0.9085, 0.8524,\n",
    "0.5514, 0.0316, 0.3587, 0.7041, 0.5915, 0.2523, 0.2545, 0.3044,\n",
    "0.0207, 0.1067, 0.3857, 0.1746, 0.3362, 0.1589, 0.3727, 0.4145]"
   ]
  },
  {
   "cell_type": "code",
   "execution_count": 8,
   "id": "1fb98409",
   "metadata": {},
   "outputs": [
    {
     "name": "stdout",
     "output_type": "stream",
     "text": [
      "La media es: 0.432515\n"
     ]
    }
   ],
   "source": [
    "# Calcular la media\n",
    "media = sum(r) / len(r)\n",
    "print(\"La media es:\", media)"
   ]
  },
  {
   "cell_type": "code",
   "execution_count": 17,
   "id": "deaec2f6",
   "metadata": {},
   "outputs": [
    {
     "name": "stdout",
     "output_type": "stream",
     "text": [
      "El limite superior es: 0.5894613510591771\n",
      "El limites inferior es: 0.41053864894082287\n"
     ]
    }
   ],
   "source": [
    "import math\n",
    "# Calculamos los límites\n",
    "limit_s = (1/2) + 1.96*(1/math.sqrt(12*len(r)))\n",
    "limit_i = (1/2) - 1.96*(1/math.sqrt(12*len(r)))\n",
    "print(\"El limite superior es:\", limit_s)\n",
    "print(\"El limites inferior es:\", limit_i)"
   ]
  },
  {
   "cell_type": "code",
   "execution_count": 19,
   "id": "c28b3f24",
   "metadata": {},
   "outputs": [
    {
     "name": "stdout",
     "output_type": "stream",
     "text": [
      "Se cumple que H_o = media = 1/2\n"
     ]
    }
   ],
   "source": [
    "if (limit_i<=limit_s):\n",
    "    print(\"Se cumple que H_o = media = 1/2\")\n",
    "else:\n",
    "    print(\"No se cumple\")"
   ]
  },
  {
   "cell_type": "code",
   "execution_count": 20,
   "id": "1cfc773b",
   "metadata": {},
   "outputs": [
    {
     "name": "stdout",
     "output_type": "stream",
     "text": [
      "La varianza es: 0.08695061617948714\n"
     ]
    }
   ],
   "source": [
    "# Calcular la suma de los cuadrados de la diferencia con la media\n",
    "suma_cuadrados = sum((x - media) ** 2 for x in r)\n",
    "\n",
    "# Calcular la varianza\n",
    "varianza = suma_cuadrados / (len(r) - 1)\n",
    "\n",
    "print(\"La varianza es:\", varianza)"
   ]
  },
  {
   "cell_type": "code",
   "execution_count": null,
   "id": "71d73f2b",
   "metadata": {},
   "outputs": [],
   "source": []
  }
 ],
 "metadata": {
  "kernelspec": {
   "display_name": "Python 3 (ipykernel)",
   "language": "python",
   "name": "python3"
  },
  "language_info": {
   "codemirror_mode": {
    "name": "ipython",
    "version": 3
   },
   "file_extension": ".py",
   "mimetype": "text/x-python",
   "name": "python",
   "nbconvert_exporter": "python",
   "pygments_lexer": "ipython3",
   "version": "3.9.13"
  }
 },
 "nbformat": 4,
 "nbformat_minor": 5
}
